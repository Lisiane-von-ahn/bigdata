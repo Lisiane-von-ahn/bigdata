{
 "cells": [
  {
   "cell_type": "markdown",
   "id": "0d80b6fb-6dac-4cab-aab3-e2b34d46c53c",
   "metadata": {},
   "source": [
    "En ayant à présent assez d’explorer sans but précis, vous vous fixez un petit challenge ! Vous prenez les données des arbres remarquables de Paris et répondez à plusieurs questions que vous vous posez :\n",
    "\n",
    "    Quel âge a notre plus vieil ami?\n",
    "    Quel est le volume du plus grand arbre ?\n",
    "    Quelle est la hauteur moyenne de ces spécimens ?\n",
    "    Dans quel arrondissement y a-t-il le plus d’arbres ?\n",
    "    Combien y a-t-il d'arbres au Cimetière du Père Lachaise ?\n",
    "\n"
   ]
  },
  {
   "cell_type": "code",
   "execution_count": 129,
   "id": "61ca3f6c-47c3-4aba-9b6c-ba2c07f24c1d",
   "metadata": {},
   "outputs": [],
   "source": [
    "from pyspark import SparkConf, SparkContext\n",
    "from datetime import datetime\n",
    "# Créez une configuration Spark:\n",
    "conf = SparkConf().setAppName(\"SimpleApp\").setMaster(\"local[*]\")\n",
    "sc = SparkContext(conf=conf)"
   ]
  },
  {
   "cell_type": "code",
   "execution_count": 130,
   "id": "ba5b000b-4136-44a4-81af-015a8bb78cde",
   "metadata": {},
   "outputs": [],
   "source": [
    "# Chargement des données CSV dans un RDD\n",
    "rdd_arbres = sc.textFile(\"arbresremarquablesparis.csv\")"
   ]
  },
  {
   "cell_type": "code",
   "execution_count": 162,
   "id": "5d9b2939-d2a8-4482-8959-d6e71595ac36",
   "metadata": {
    "scrolled": true
   },
   "outputs": [
    {
     "data": {
      "text/plain": [
       "[\"Geo point;idbase;domanialite;arrondissement;complement adresse;numero;adresse;circonference en cm;hauteur en m;stade développement;pépinière;genre;espèce;varieteoucultivar;date de plantation;libellé Français;ID Base;ID arbre;Site;Adresse;Complément d'adresse;Arrondissement;Domanialité;Dénomination usuelle;Dénomination botanique;Autorité taxonomique;Année de plantation;Qualification remarquable;Résumé;Descriptif;Numéro de délibération;Date de la délibération;Label national;Panonceau;Photo 1;Copyright 1\"]"
      ]
     },
     "execution_count": 162,
     "metadata": {},
     "output_type": "execute_result"
    }
   ],
   "source": [
    "rdd_arbres.take(1)"
   ]
  },
  {
   "cell_type": "code",
   "execution_count": 163,
   "id": "12b59e9f-9b43-4527-812a-ed520c552939",
   "metadata": {},
   "outputs": [
    {
     "data": {
      "text/plain": [
       "\"Geo point;idbase;domanialite;arrondissement;complement adresse;numero;adresse;circonference en cm;hauteur en m;stade développement;pépinière;genre;espèce;varieteoucultivar;date de plantation;libellé Français;ID Base;ID arbre;Site;Adresse;Complément d'adresse;Arrondissement;Domanialité;Dénomination usuelle;Dénomination botanique;Autorité taxonomique;Année de plantation;Qualification remarquable;Résumé;Descriptif;Numéro de délibération;Date de la délibération;Label national;Panonceau;Photo 1;Copyright 1\""
      ]
     },
     "execution_count": 163,
     "metadata": {},
     "output_type": "execute_result"
    }
   ],
   "source": [
    "# En-tête du fichier CSV : Nous extrayons la première ligne (l'en-tête) du RDD. (les colonnes)\n",
    "header = rdd_arbres.first()\n",
    "header"
   ]
  },
  {
   "cell_type": "code",
   "execution_count": null,
   "id": "e4e43be7-9bc5-4042-9e0d-ae300c109dc7",
   "metadata": {},
   "outputs": [],
   "source": [
    "separateur= ';'"
   ]
  },
  {
   "cell_type": "code",
   "execution_count": 153,
   "id": "e5319362-f12d-418f-bc76-ca9ceffe5c9f",
   "metadata": {},
   "outputs": [
    {
     "data": {
      "text/plain": [
       "[('Geo point', 0),\n",
       " ('idbase', 1),\n",
       " ('domanialite', 2),\n",
       " ('arrondissement', 3),\n",
       " ('complement adresse', 4),\n",
       " ('numero', 5),\n",
       " ('adresse', 6),\n",
       " ('circonference en cm', 7),\n",
       " ('hauteur en m', 8),\n",
       " ('stade développement', 9),\n",
       " ('pépinière', 10),\n",
       " ('genre', 11),\n",
       " ('espèce', 12),\n",
       " ('varieteoucultivar', 13),\n",
       " ('date de plantation', 14),\n",
       " ('libellé Français', 15),\n",
       " ('ID Base', 16),\n",
       " ('ID arbre', 17),\n",
       " ('Site', 18),\n",
       " ('Adresse', 19),\n",
       " (\"Complément d'adresse\", 20),\n",
       " ('Arrondissement', 21),\n",
       " ('Domanialité', 22),\n",
       " ('Dénomination usuelle', 23),\n",
       " ('Dénomination botanique', 24),\n",
       " ('Autorité taxonomique', 25),\n",
       " ('Année de plantation', 26),\n",
       " ('Qualification remarquable', 27),\n",
       " ('Résumé', 28),\n",
       " ('Descriptif', 29),\n",
       " ('Numéro de délibération', 30),\n",
       " ('Date de la délibération', 31),\n",
       " ('Label national', 32),\n",
       " ('Panonceau', 33),\n",
       " ('Photo 1', 34),\n",
       " ('Copyright 1', 35)]"
      ]
     },
     "execution_count": 153,
     "metadata": {},
     "output_type": "execute_result"
    }
   ],
   "source": [
    "[(n, i) for i, n in enumerate(header.split(separateur))]"
   ]
  },
  {
   "cell_type": "code",
   "execution_count": 155,
   "id": "f8ee676a-5196-4da0-80d7-db4622b63cde",
   "metadata": {},
   "outputs": [],
   "source": [
    "df_arbres = rdd_arbres.filter(lambda line: line != header).map(lambda line: line.split(separateur))"
   ]
  },
  {
   "cell_type": "markdown",
   "id": "dea0d598-af9a-42d0-a44d-e3015bcb1d8a",
   "metadata": {},
   "source": [
    "## Quel âge a notre plus vieil ami?"
   ]
  },
  {
   "cell_type": "code",
   "execution_count": 156,
   "id": "a003022d-abd9-4115-8adc-22955d8d2888",
   "metadata": {},
   "outputs": [],
   "source": [
    "def calculer_age(x):\n",
    "    return datetime.now().year - int (x[:4])"
   ]
  },
  {
   "cell_type": "code",
   "execution_count": 157,
   "id": "caa5547d-b95b-4870-984b-bdc2a36d9646",
   "metadata": {},
   "outputs": [
    {
     "data": {
      "text/plain": [
       "[('PARIS 5E ARRDT',\n",
       "  'SQUARE RENE VIVIANI MONTEBELLO / 2 RUE DU FOUARRE',\n",
       "  365.0,\n",
       "  15.0,\n",
       "  422,\n",
       "  'Square René Viviani')]"
      ]
     },
     "execution_count": 157,
     "metadata": {},
     "output_type": "execute_result"
    }
   ],
   "source": [
    "(\n",
    "    rdd_arbres\n",
    "    .filter(lambda line: line != header)\n",
    "    .map(lambda line: line.split(separateur))\n",
    "    .map(lambda line: (line[3], line[6], float(line[7]), float(line[8]), calculer_age(line[14]), str(line[18]))) # garder 3, 6, 7, 8, 14 et 18\n",
    "    .sortBy(lambda line: line[4], ascending= False) # trouver le plus vieux\n",
    ").take(1)"
   ]
  },
  {
   "cell_type": "markdown",
   "id": "8adbc08e-0dcf-46dc-85af-721d4e18fcc6",
   "metadata": {},
   "source": [
    "## Quel est le volume du plus grand arbre ?"
   ]
  },
  {
   "cell_type": "code",
   "execution_count": 158,
   "id": "cc9c4d06-b149-447a-999d-0f35b911d60d",
   "metadata": {},
   "outputs": [
    {
     "data": {
      "text/plain": [
       "[('PARIS 19E ARRDT',\n",
       "  'PARC DES BUTTES CHAUMONT',\n",
       "  740.0,\n",
       "  30.0,\n",
       "  324,\n",
       "  'Parc des Buttes Chaumont')]"
      ]
     },
     "execution_count": 158,
     "metadata": {},
     "output_type": "execute_result"
    }
   ],
   "source": [
    "(\n",
    "    rdd_arbres\n",
    "    .filter(lambda line: line != header)\n",
    "    .map(lambda line: line.split(separateur))\n",
    "    .map(lambda line: (line[3], line[6], float(line[7]), float(line[8]), calculer_age(line[14]), str(line[18]))) # garder 3, 6, 7, 8, 14 et 18\n",
    "    .sortBy(lambda line: line[2], ascending = False) # trouver la plus volumeuse\n",
    ").take(1)"
   ]
  },
  {
   "cell_type": "markdown",
   "id": "0e83da38-3c3d-44a6-94ba-143cfa8d4c78",
   "metadata": {},
   "source": [
    "## La hauteur moyenne de ces spécimens:"
   ]
  },
  {
   "cell_type": "code",
   "execution_count": 159,
   "id": "b6d2ad49-2610-41f9-90e2-fb5dcfe72083",
   "metadata": {},
   "outputs": [
    {
     "data": {
      "text/plain": [
       "20.129032258064512"
      ]
     },
     "execution_count": 159,
     "metadata": {},
     "output_type": "execute_result"
    }
   ],
   "source": [
    "(\n",
    "    rdd_arbres\n",
    "    .filter(lambda line: line != header)\n",
    "    .map(lambda line: line.split(separateur))\n",
    "    .map(lambda line: (line[3], line[6], float(line[7]), float(line[8]), calculer_age(line[14]))) # garder 3, 6, 7, 8, 14 et 18\n",
    "    .map(lambda line : line[3]).mean() # trouver la moyenne\n",
    ")"
   ]
  },
  {
   "cell_type": "markdown",
   "id": "edffbf55-ed4f-4148-a506-8eac6aff2b87",
   "metadata": {},
   "source": [
    "## Dans quel arrondissement y a-t-il le plus d’arbres ?"
   ]
  },
  {
   "cell_type": "code",
   "execution_count": 160,
   "id": "e2cd3910-5748-445e-a72f-a52c23a3a217",
   "metadata": {},
   "outputs": [
    {
     "data": {
      "text/plain": [
       "('BOIS DE VINCENNES', 33)"
      ]
     },
     "execution_count": 160,
     "metadata": {},
     "output_type": "execute_result"
    }
   ],
   "source": [
    "(\n",
    "    rdd_arbres\n",
    "    .filter(lambda line: line != header)\n",
    "    .map(lambda line: line.split(separateur))\n",
    "    .map(lambda line: (line[3], line[6], float(line[7]), float(line[8]), calculer_age(line[14]), str(line[18]))) # garder 3, 6, 7, 8, 14 et 18\n",
    "    .map(lambda line: (line[0], 1))\n",
    "    .reduceByKey(lambda a, b: a + b)\n",
    "    .max(key=lambda x: x[1]) #Trier les résultats et obtenir l'arrondissement avec le plus grand nombre d'arbres :\n",
    ")"
   ]
  },
  {
   "cell_type": "markdown",
   "id": "47297e5e-9fb3-4554-9e1c-df2e751f314f",
   "metadata": {},
   "source": [
    "## Combien y a-t-il d'arbres au Cimetière du Père Lachaise ?\n"
   ]
  },
  {
   "cell_type": "code",
   "execution_count": 161,
   "id": "aa9de6cc-f967-4ba3-ad3e-44f8bbad959a",
   "metadata": {},
   "outputs": [
    {
     "data": {
      "text/plain": [
       "9"
      ]
     },
     "execution_count": 161,
     "metadata": {},
     "output_type": "execute_result"
    }
   ],
   "source": [
    "(\n",
    "    rdd_arbres\n",
    "    .filter(lambda line: line != header)\n",
    "    .map(lambda line: line.split(separateur))\n",
    "    .map(lambda line: (line[3], line[6], float(line[7]), float(line[8]), calculer_age(line[14]), str(line[18]))) # garder 3, 6, 7, 8, 14 et 18\n",
    "    .filter(lambda line: 'Cimetière du Père Lachaise' in line[5])\n",
    "    .count()  ## Filtrer les arbres situés dans le \"Cimetière du Père Lachaise\" et compter le nombre d'arbres\n",
    ")"
   ]
  },
  {
   "cell_type": "markdown",
   "id": "5dc01cfc-2771-4fe1-80d5-a7ba8725b2d9",
   "metadata": {},
   "source": [
    "Arrêt du contexte Spark"
   ]
  },
  {
   "cell_type": "code",
   "execution_count": 126,
   "id": "fd920096-41b3-4498-a92a-11bf50b9907e",
   "metadata": {},
   "outputs": [],
   "source": [
    "sc.stop()"
   ]
  }
 ],
 "metadata": {
  "kernelspec": {
   "display_name": "Python 3 (ipykernel)",
   "language": "python",
   "name": "python3"
  },
  "language_info": {
   "codemirror_mode": {
    "name": "ipython",
    "version": 3
   },
   "file_extension": ".py",
   "mimetype": "text/x-python",
   "name": "python",
   "nbconvert_exporter": "python",
   "pygments_lexer": "ipython3",
   "version": "3.10.14"
  }
 },
 "nbformat": 4,
 "nbformat_minor": 5
}
