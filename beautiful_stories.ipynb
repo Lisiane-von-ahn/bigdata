{
 "cells": [
  {
   "cell_type": "markdown",
   "id": "a5e51372-83b1-4a29-a2b3-6668247b72f8",
   "metadata": {},
   "source": [
    "__Vous décidez de vous fixer de nouveaux challenges ! Vous prenez le livre “Beautiful Stories” de\n",
    "Shakespeare, plusieurs questions vous viennent naturellement__:\n",
    "- Quel est le thème qui ressort le plus dans ces belles histoires ? Vous regardez les mots les\n",
    "plus utilisés afin d’avoir un aperçu du champ lexical de ces histoires.\n",
    "- Vous avez découvert une superbe histoire que vous voulez partager à un ami, vous vous\n",
    "lancez dans la découpe des différentes histoires pour les exporter séparément."
   ]
  },
  {
   "cell_type": "code",
   "execution_count": 3,
   "id": "ba689863-a17f-4079-a600-9770df085cae",
   "metadata": {},
   "outputs": [],
   "source": [
    "import requests\n",
    "# Étape 1: Télécharger le fichier depuis l'URL\n",
    "url = 'https://www.gutenberg.org/files/1430/1430-0.txt'\n",
    "response = requests.get(url) \n",
    "\n",
    "# Sauvegarder le contenu dans un fichier local\n",
    "with open('gutenberg.txt', 'wb') as file:\n",
    "    file.write(response.content)"
   ]
  },
  {
   "cell_type": "code",
   "execution_count": 5,
   "id": "8d45bc95-0523-49e0-a1be-ef3cf75635f1",
   "metadata": {},
   "outputs": [
    {
     "name": "stderr",
     "output_type": "stream",
     "text": [
      "24/07/30 16:05:44 WARN Utils: Your hostname, LPYTHON-101 resolves to a loopback address: 127.0.1.1; using 172.22.114.204 instead (on interface eno1)\n",
      "24/07/30 16:05:44 WARN Utils: Set SPARK_LOCAL_IP if you need to bind to another address\n",
      "Setting default log level to \"WARN\".\n",
      "To adjust logging level use sc.setLogLevel(newLevel). For SparkR, use setLogLevel(newLevel).\n",
      "24/07/30 16:05:45 WARN NativeCodeLoader: Unable to load native-hadoop library for your platform... using builtin-java classes where applicable\n",
      "24/07/30 16:05:45 WARN Utils: Service 'SparkUI' could not bind on port 4040. Attempting port 4041.\n",
      "24/07/30 16:06:01 WARN GarbageCollectionMetrics: To enable non-built-in garbage collector(s) List(G1 Concurrent GC), users should configure it(them) to spark.eventLog.gcMetrics.youngGenerationGarbageCollectors or spark.eventLog.gcMetrics.oldGenerationGarbageCollectors\n"
     ]
    }
   ],
   "source": [
    "# Initialiser Spark\n",
    "from pyspark import SparkConf, SparkContext \n",
    "conf = SparkConf().setAppName(\"example\").setMaster(\"local\")\n",
    "sc = SparkContext(conf=conf)\n",
    "\n",
    "# Charger le fichier texte dans un RDD\n",
    "rdd = sc.textFile(\"gutenberg.txt\")\n",
    "header = rdd.first()\n",
    "data_rows = rdd.filter(lambda line: line != header)"
   ]
  },
  {
   "cell_type": "markdown",
   "id": "eb0420b1-dafa-41d5-bf3f-c17b4425bebf",
   "metadata": {},
   "source": [
    "# Quel est le thème qui ressort le plus dans ces belles histoires ? \n",
    "Vous regardez les mots les plus utilisés afin d’avoir un aperçu du champ lexical de ces histoires.\n"
   ]
  },
  {
   "cell_type": "code",
   "execution_count": 16,
   "id": "48b90473-f04c-4176-bcc0-b409facc1eda",
   "metadata": {
    "scrolled": true
   },
   "outputs": [
    {
     "data": {
      "text/plain": [
       "[('the', 2139),\n",
       " ('and', 1862),\n",
       " ('to', 1415),\n",
       " ('.', 1373),\n",
       " ('of', 1085),\n",
       " ('he', 927),\n",
       " ('a', 915),\n",
       " ('was', 765),\n",
       " ('his', 723),\n",
       " ('that', 638),\n",
       " ('in', 616),\n",
       " ('her', 523),\n",
       " ('she', 453),\n",
       " ('had', 436),\n",
       " ('for', 404),\n",
       " ('with', 400),\n",
       " ('said', 381),\n",
       " ('but', 349),\n",
       " ('not', 312),\n",
       " ('i', 307),\n",
       " ('as', 302),\n",
       " ('it', 298),\n",
       " ('you', 287),\n",
       " ('him', 276),\n",
       " ('is', 258),\n",
       " ('when', 230),\n",
       " ('be', 223),\n",
       " ('on', 216),\n",
       " ('so', 208),\n",
       " ('they', 206),\n",
       " ('at', 202),\n",
       " ('who', 196),\n",
       " ('were', 190),\n",
       " ('have', 189),\n",
       " ('by', 176),\n",
       " ('would', 172),\n",
       " ('this', 167),\n",
       " ('my', 159),\n",
       " ('then', 156),\n",
       " ('“i', 155),\n",
       " ('all', 152),\n",
       " ('from', 150),\n",
       " ('--', 142),\n",
       " ('will', 141),\n",
       " ('your', 138),\n",
       " ('king', 127),\n",
       " ('one', 120),\n",
       " ('their', 117),\n",
       " ('said,', 114),\n",
       " ('which', 113)]"
      ]
     },
     "execution_count": 16,
     "metadata": {},
     "output_type": "execute_result"
    }
   ],
   "source": [
    "\n",
    "words = rdd.flatMap(lambda line: line.lower().split())\n",
    "word_counts = words.map(lambda word: (word, 1)).reduceByKey(lambda a, b: a + b)\n",
    "\n",
    "most_frequent_word = word_counts.sortBy(lambda x: x[1], ascending=False).take(50) \n",
    "most_frequent_word"
   ]
  },
  {
   "cell_type": "code",
   "execution_count": 17,
   "id": "06bedb0e-8b27-4e89-86de-21821b845058",
   "metadata": {},
   "outputs": [
    {
     "data": {
      "text/plain": [
       "[('king', 127),\n",
       " ('one', 120),\n",
       " ('their', 117),\n",
       " ('which', 113),\n",
       " ('if', 113),\n",
       " ('are', 108),\n",
       " ('no', 105),\n",
       " ('could', 105),\n",
       " ('love', 102),\n",
       " ('been', 100)]"
      ]
     },
     "execution_count": 17,
     "metadata": {},
     "output_type": "execute_result"
    }
   ],
   "source": [
    "blacklist = set([\n",
    "    'the', 'and', 'to', '.', 'of', 'he', 'a', 'was', 'his', 'that', 'in', 'her', 'she', 'had', 'for',\n",
    "    'with', 'said', 'but', 'not', 'i', 'as', 'it', 'you', 'him', 'is', 'when', 'be', 'on', 'so', 'they',\n",
    "    'at', 'who', 'were', 'have', 'by', 'would', 'this', 'my', 'then', '“i', 'all', 'from', '--', 'will',\n",
    "    'your'\n",
    "])\n",
    "\n",
    "filtered_words = words.filter(lambda word: word not in blacklist and word.isalpha())\n",
    "word_counts = filtered_words.map(lambda word: (word, 1)).reduceByKey(lambda a, b: a + b)\n",
    "\n",
    "\n",
    "most_frequent_word = word_counts.sortBy(lambda x: x[1], ascending=False).take(10)\n",
    "most_frequent_word"
   ]
  },
  {
   "cell_type": "code",
   "execution_count": 18,
   "id": "df79b770-d513-445b-bf10-bf84ffec9428",
   "metadata": {},
   "outputs": [
    {
     "name": "stdout",
     "output_type": "stream",
     "text": [
      "Les 10 mots les plus fréquents (hors blacklist) :\n",
      "king: 127\n",
      "one: 120\n",
      "their: 117\n",
      "which: 113\n",
      "if: 113\n",
      "are: 108\n",
      "no: 105\n",
      "could: 105\n",
      "love: 102\n",
      "been: 100\n"
     ]
    }
   ],
   "source": [
    "print(\"Les 10 mots les plus fréquents (hors blacklist) :\")\n",
    "for word, count in most_frequent_word:\n",
    "    print(f\"{word}: {count}\")"
   ]
  },
  {
   "cell_type": "markdown",
   "id": "65288df2-5180-4c9f-a587-7c32874be143",
   "metadata": {},
   "source": [
    "# Découper des différentes histoires pour les exporter séparément."
   ]
  },
  {
   "cell_type": "code",
   "execution_count": null,
   "id": "751556ee-22f3-4f93-a02f-35c5174128b0",
   "metadata": {},
   "outputs": [],
   "source": []
  }
 ],
 "metadata": {
  "kernelspec": {
   "display_name": "Python 3 (ipykernel)",
   "language": "python",
   "name": "python3"
  },
  "language_info": {
   "codemirror_mode": {
    "name": "ipython",
    "version": 3
   },
   "file_extension": ".py",
   "mimetype": "text/x-python",
   "name": "python",
   "nbconvert_exporter": "python",
   "pygments_lexer": "ipython3",
   "version": "3.10.14"
  }
 },
 "nbformat": 4,
 "nbformat_minor": 5
}
