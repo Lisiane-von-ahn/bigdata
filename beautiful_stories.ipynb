{
 "cells": [
  {
   "cell_type": "markdown",
   "id": "a5e51372-83b1-4a29-a2b3-6668247b72f8",
   "metadata": {},
   "source": [
    "__Vous décidez de vous fixer de nouveaux challenges ! Vous prenez le livre “Beautiful Stories” de\n",
    "Shakespeare, plusieurs questions vous viennent naturellement__:\n",
    "- Quel est le thème qui ressort le plus dans ces belles histoires ? Vous regardez les mots les\n",
    "plus utilisés afin d’avoir un aperçu du champ lexical de ces histoires.\n",
    "- Vous avez découvert une superbe histoire que vous voulez partager à un ami, vous vous\n",
    "lancez dans la découpe des différentes histoires pour les exporter séparément."
   ]
  },
  {
   "cell_type": "code",
   "execution_count": 2,
   "id": "ba689863-a17f-4079-a600-9770df085cae",
   "metadata": {},
   "outputs": [],
   "source": [
    "import requests\n",
    "# Étape 1: Télécharger le fichier depuis l'URL\n",
    "url = 'https://www.gutenberg.org/files/1430/1430-0.txt'\n",
    "response = requests.get(url) \n",
    "\n",
    "# Sauvegarder le contenu dans un fichier local\n",
    "with open('gutenberg.txt', 'wb') as file:\n",
    "    file.write(response.content)"
   ]
  },
  {
   "cell_type": "code",
   "execution_count": 3,
   "id": "8d45bc95-0523-49e0-a1be-ef3cf75635f1",
   "metadata": {},
   "outputs": [
    {
     "name": "stderr",
     "output_type": "stream",
     "text": [
      "24/07/30 21:48:27 WARN Utils: Your hostname, locoselli-HP-ProDesk-400-G4-MT resolves to a loopback address: 127.0.1.1; using 192.168.1.21 instead (on interface wlx242fd066436c)\n",
      "24/07/30 21:48:27 WARN Utils: Set SPARK_LOCAL_IP if you need to bind to another address\n",
      "Setting default log level to \"WARN\".\n",
      "To adjust logging level use sc.setLogLevel(newLevel). For SparkR, use setLogLevel(newLevel).\n",
      "24/07/30 21:48:27 WARN NativeCodeLoader: Unable to load native-hadoop library for your platform... using builtin-java classes where applicable\n",
      "24/07/30 21:48:28 WARN Utils: Service 'SparkUI' could not bind on port 4040. Attempting port 4041.\n",
      "24/07/30 21:48:28 WARN Utils: Service 'SparkUI' could not bind on port 4041. Attempting port 4042.\n",
      "24/07/30 21:48:28 WARN Utils: Service 'SparkUI' could not bind on port 4042. Attempting port 4043.\n",
      "                                                                                \r"
     ]
    }
   ],
   "source": [
    "# Initialiser Spark\n",
    "from pyspark import SparkConf, SparkContext \n",
    "conf = SparkConf().setAppName(\"example\").setMaster(\"local\")\n",
    "sc = SparkContext(conf=conf)\n",
    "\n",
    "# Charger le fichier texte dans un RDD\n",
    "rdd = sc.textFile(\"gutenberg.txt\")\n",
    "header = rdd.first()\n",
    "data_rows = rdd.filter(lambda line: line != header)"
   ]
  },
  {
   "cell_type": "markdown",
   "id": "eb0420b1-dafa-41d5-bf3f-c17b4425bebf",
   "metadata": {},
   "source": [
    "# Quel est le thème qui ressort le plus dans ces belles histoires ? \n",
    "Vous regardez les mots les plus utilisés afin d’avoir un aperçu du champ lexical de ces histoires.\n"
   ]
  },
  {
   "cell_type": "code",
   "execution_count": 15,
   "id": "48b90473-f04c-4176-bcc0-b409facc1eda",
   "metadata": {
    "scrolled": true
   },
   "outputs": [
    {
     "data": {
      "text/plain": [
       "['***', 'start', 'of']"
      ]
     },
     "execution_count": 15,
     "metadata": {},
     "output_type": "execute_result"
    }
   ],
   "source": [
    "\n",
    "# Pour chaque ligne du fichier, faire un split pour prendre les mots et passer comme parametre une fonction lambda a être éxecutée à chaque ligne trouvée\n",
    "words = rdd.flatMap(lambda line: line.lower().split())\n",
    "\n",
    "word_counts = words.map(lambda word: (word, 1)).reduceByKey(lambda a, b: a + b)\n",
    "\n",
    "most_frequent_word = word_counts.sortBy(lambda x: x[1], ascending=False).take(50) \n",
    "most_frequent_word"
   ]
  },
  {
   "cell_type": "code",
   "execution_count": 16,
   "id": "06bedb0e-8b27-4e89-86de-21821b845058",
   "metadata": {},
   "outputs": [
    {
     "data": {
      "text/plain": [
       "[('king', 127),\n",
       " ('one', 120),\n",
       " ('their', 117),\n",
       " ('which', 113),\n",
       " ('if', 113),\n",
       " ('are', 108),\n",
       " ('no', 105),\n",
       " ('could', 105),\n",
       " ('love', 102),\n",
       " ('been', 100)]"
      ]
     },
     "execution_count": 16,
     "metadata": {},
     "output_type": "execute_result"
    }
   ],
   "source": [
    "blacklist = set([\n",
    "    'the', 'and', 'to', '.', 'of', 'he', 'a', 'was', 'his', 'that', 'in', 'her', 'she', 'had', 'for',\n",
    "    'with', 'said', 'but', 'not', 'i', 'as', 'it', 'you', 'him', 'is', 'when', 'be', 'on', 'so', 'they',\n",
    "    'at', 'who', 'were', 'have', 'by', 'would', 'this', 'my', 'then', '“i', 'all', 'from', '--', 'will',\n",
    "    'your'\n",
    "])\n",
    "\n",
    "filtered_words = words.filter(lambda word: word not in blacklist and word.isalpha())\n",
    "word_counts = filtered_words.map(lambda word: (word, 1)).reduceByKey(lambda a, b: a + b)\n",
    "\n",
    "\n",
    "most_frequent_word = word_counts.sortBy(lambda x: x[1], ascending=False).take(10)\n",
    "most_frequent_word"
   ]
  },
  {
   "cell_type": "code",
   "execution_count": 6,
   "id": "df79b770-d513-445b-bf10-bf84ffec9428",
   "metadata": {},
   "outputs": [
    {
     "name": "stdout",
     "output_type": "stream",
     "text": [
      "Les 10 mots les plus fréquents (hors blacklist) :\n",
      "king: 127\n",
      "one: 120\n",
      "their: 117\n",
      "which: 113\n",
      "if: 113\n",
      "are: 108\n",
      "no: 105\n",
      "could: 105\n",
      "love: 102\n",
      "been: 100\n"
     ]
    }
   ],
   "source": [
    "print(\"Les 10 mots les plus fréquents (hors blacklist) :\")\n",
    "for word, count in most_frequent_word:\n",
    "    print(f\"{word}: {count}\")"
   ]
  },
  {
   "cell_type": "markdown",
   "id": "65288df2-5180-4c9f-a587-7c32874be143",
   "metadata": {},
   "source": [
    "# Découper des différentes histoires pour les exporter séparément."
   ]
  },
  {
   "cell_type": "code",
   "execution_count": 62,
   "id": "751556ee-22f3-4f93-a02f-35c5174128b0",
   "metadata": {},
   "outputs": [
    {
     "data": {
      "text/plain": [
       "(11,\n",
       " \"THE WINTER'S TALE\\r\\n\\r\\n\\r\\n\\r\\nLeontes was the King of Sicily, and his dearest friend was Polixenes,\\r\\nKing of Bohemia. They had been brought up together, and only separated\\r\\nwhen they reached man's estate and each had to go and rule over\\r\\nhis kingdom. After many years, when each was married and had a son,\\r\\nPolixenes came to stay with Leontes in Sicily.\\r\\n\\r\\nLeontes was a violent-tempered man and rather silly, and he took it into\\r\\nhis stupid head that his wife, Hermione, liked Polixenes better than\\r\\nshe did him, her own husband. When once he had got this into his head,\\r\\nnothing could put it out; and he ordered one of his lords, Camillo, to\\r\\nput a poison in Polixenes' wine. Camillo tried to dissuade him from this\\r\\nwicked action, but finding he was not to be moved, pretended to consent.\\r\\nHe then told Polixenes what was proposed against him, and they fled from\\r\\nthe Court of Sicily that night, and returned to Bohemia, where Camillo\\r\\nlived on as Polixenes' friend and counselor.\\r\\n\\r\\nLeontes threw the Queen into prison; and her son, the heir to the\\r\\nthrone, died of sorrow to see his mother so unjustly and cruelly\\r\\ntreated.\\r\\n\\r\\nWhile the Queen was in prison she had a little baby, and a friend of\\r\\nhers, named Paulina, had the baby dressed in its best, and took it to\\r\\nshow the King, thinking that the sight of his helpless little daughter\\r\\nwould soften his heart towards his dear Queen, who had never done him\\r\\nany wrong, and who loved him a great deal more than he deserved; but the\\r\\nKing would not look at the baby, and ordered Paulina's husband to take\\r\\nit away in a ship, and leave it in the most desert and dreadful place\\r\\nhe could find, which Paulina's husband, very much against his will, was\\r\\nobliged to do.\\r\\n\\r\\nThen the poor Queen was brought up to be tried for treason in preferring\\r\\nPolixenes to her King; but really she had never thought of anyone except\\r\\nLeontes, her husband. Leontes had sent some messengers to ask the god,\\r\\nApollo, whether he was not right in his cruel thoughts of the Queen. But\\r\\nhe had not patience to wait till they came back, and so it happened that\\r\\nthey arrived in the middle of the trial. The Oracle said--\\r\\n\\r\\n“Hermione is innocent, Polixenes blameless, Camillo a true subject,\\r\\nLeontes a jealous tyrant, and the King shall live without an heir, if\\r\\nthat which is lost be not found.”\\r\\n\\r\\nThen a man came and told them that the little Prince was dead. The\\r\\npoor Queen, hearing this, fell down in a fit; and then the King saw how\\r\\nwicked and wrong he had been. He ordered Paulina and the ladies who were\\r\\nwith the Queen to take her away, and try to restore her. But Paulina\\r\\ncame back in a few moments, and told the King that Hermione was dead.\\r\\n\\r\\nNow Leontes' eyes were at last opened to his folly. His Queen was dead,\\r\\nand the little daughter who might have been a comfort to him he had sent\\r\\naway to be the prey of wolves and kites. Life had nothing left for him\\r\\nnow. He gave himself up to his grief, and passed many sad years in\\r\\nprayer and remorse.\\r\\n\\r\\nThe baby Princess was left on the seacoast of Bohemia, the very kingdom\\r\\nwhere Polixenes reigned. Paulina's husband never went home to tell\\r\\nLeontes where he had left the baby; for as he was going back to the\\r\\nship, he met a bear and was torn to pieces. So there was an end of him.\\r\\n\\r\\nBut the poor deserted little baby was found by a shepherd. She was\\r\\nrichly dressed, and had with her some jewels, and a paper was pinned to\\r\\nher cloak, saying that her name was Perdita, and that she came of noble\\r\\nparents.\\r\\n\\r\\nThe shepherd, being a kind-hearted man, took home the little baby to\\r\\nhis wife, and they brought it up as their own child. She had no more\\r\\nteaching than a shepherd's child generally has, but she inherited from\\r\\nher royal mother many graces and charms, so that she was quite different\\r\\nfrom the other maidens in the village where she lived.\\r\\n\\r\\nOne day Prince Florizel, the son of the good King of Bohemia, was\\r\\nbunting near the shepherd's house and saw Perdita, now grown up to a\\r\\ncharming woman. He made friends with the shepherd, not telling him that\\r\\nhe was the Prince, but saying that his name was Doricles, and that he\\r\\nwas a private gentleman; and then, being deeply in love with the pretty\\r\\nPerdita, he came almost daily to see her.\\r\\n\\r\\nThe King could not understand what it was that took his son nearly every\\r\\nday from home; so he set people to watch him, and then found out that\\r\\nthe heir of the King of Bohemia was in love with Perdita, the pretty\\r\\nshepherd girl. Polixenes, wishing to see whether this was true,\\r\\ndisguised himself, and went with the faithful Camillo, in disguise\\r\\ntoo, to the old shepherd's house. They arrived at the feast of\\r\\nsheep-shearing, and, though strangers, they were made very welcome.\\r\\nThere was dancing going on, and a peddler was selling ribbons and laces\\r\\nand gloves, which the young men bought for their sweethearts.\\r\\n\\r\\nFlorizel and Perdita, however, were taking no part in this gay scene,\\r\\nbut sat quietly together talking. The King noticed the charming manners\\r\\nand great beauty of Perdita, never guessing that she was the daughter of\\r\\nhis old friend, Leontes. He said to Camillo--\\r\\n\\r\\n“This is the prettiest low-born lass that ever ran on the green\\r\\nsward. Nothing she does or seems but smacks of something greater than\\r\\nherself--too noble for this place.”\\r\\n\\r\\nAnd Camillo answered, “In truth she is the Queen of curds and cream.”\\r\\n\\r\\nBut when Florizel, who did not recognize his father, called upon the\\r\\nstrangers to witness his betrothal with the pretty shepherdess, the King\\r\\nmade himself known and forbade the marriage, adding that if ever she saw\\r\\nFlorizel again, he would kill her and her old father, the shepherd; and\\r\\nwith that he left them. But Camillo remained behind, for he was charmed\\r\\nwith Perdita, and wished to befriend her.\\r\\n\\r\\nCamillo had long known how sorry Leontes was for that foolish madness of\\r\\nhis, and he longed to go back to Sicily to see his old master. He now\\r\\nproposed that the young people should go there and claim the protection\\r\\nof Leontes. So they went, and the shepherd went with them, taking\\r\\nPerdita's jewels, her baby clothes, and the paper he had found pinned to\\r\\nher cloak.\\r\\n\\r\\nLeontes received them with great kindness. He was very polite to Prince\\r\\nFlorizel, but all his looks were for Perdita. He saw how much she was\\r\\nlike the Queen Hermione, and said again and again--\\r\\n\\r\\n“Such a sweet creature my daughter might have been, if I had not cruelly\\r\\nsent her from me.”\\r\\n\\r\\nWhen the old shepherd heard that the King had lost a baby daughter, who\\r\\nhad been left upon the coast of Bohemia, he felt sure that Perdita, the\\r\\nchild he had reared, must be the King's daughter, and when he told\\r\\nhis tale and showed the jewels and the paper, the King perceived that\\r\\nPerdita was indeed his long-lost child. He welcomed her with joy, and\\r\\nrewarded the good shepherd.\\r\\n\\r\\nPolixenes had hastened after his son to prevent his marriage with\\r\\nPerdita, but when he found that she was the daughter of his old friend,\\r\\nhe was only too glad to give his consent.\\r\\n\\r\\nYet Leontes could not be happy. He remembered how his fair Queen,\\r\\nwho should have been at his side to share his joy in his daughter's\\r\\nhappiness, was dead through his unkindness, and he could say nothing for\\r\\na long time but--\\r\\n\\r\\n“Oh, thy mother! thy mother!” and ask forgiveness of the King of\\r\\nBohemia, and then kiss his daughter again, and then the Prince Florizel,\\r\\nand then thank the old shepherd for all his goodness.\\r\\n\\r\\nThen Paulina, who had been high all these years in the King's favor,\\r\\nbecause of her kindness to the dead Queen Hermione, said--“I have a\\r\\nstatue made in the likeness of the dead Queen, a piece many years in\\r\\ndoing, and performed by the rare Italian master, Giulio Romano. I keep\\r\\nit in a private house apart, and there, ever since you lost your Queen,\\r\\nI have gone twice or thrice a day. Will it please your Majesty to go and\\r\\nsee the statue?”\\r\\n\\r\\nSo Leontes and Polixenes, and Florizel and Perdita, with Camillo and\\r\\ntheir attendants, went to Paulina's house where there was a heavy purple\\r\\ncurtain screening off an alcove; and Paulina, with her hand on the\\r\\ncurtain, said--\\r\\n\\r\\n“She was peerless when she was alive, and I do believe that her dead\\r\\nlikeness excels whatever yet you have looked upon, or that the hand\\r\\nof man hath done. Therefore I keep it lonely, apart. But here it\\r\\nis--behold, and say, 'tis well.”\\r\\n\\r\\nAnd with that she drew back the curtain and showed them the statue. The\\r\\nKing gazed and gazed on the beautiful statue of his dead wife, but said\\r\\nnothing.\\r\\n\\r\\n“I like your silence,” said Paulina; “it the more shows off your wonder.\\r\\nBut speak, is it not like her?”\\r\\n\\r\\n“It is almost herself,” said the King, “and yet, Paulina, Hermione was\\r\\nnot so much wrinkled, nothing so old as this seems.”\\r\\n\\r\\n“Oh, not by much,” said Polixenes.\\r\\n\\r\\n“Al,” said Paulina, “that is the cleverness of the carver, who shows her\\r\\nto us as she would have been had she lived till now.”\\r\\n\\r\\nAnd still Leontes looked at the statue and could not take his eyes away.\\r\\n\\r\\n“If I had known,” said Paulina, “that this poor image would so have\\r\\nstirred your grief, and love, I would not have shown it to you.”\\r\\n\\r\\nBut he only answered, “Do not draw the curtain.”\\r\\n\\r\\n“No, you must not look any longer,” said Paulina, “or you will think it\\r\\nmoves.”\\r\\n\\r\\n“Let be! let be!” said the King. “Would you not think it breathed?”\\r\\n\\r\\n“I will draw the curtain,” said Paulina; “you will think it lives\\r\\npresently.”\\r\\n\\r\\n“Ah, sweet Paulina,” said Leontes, “make me to think so twenty years\\r\\ntogether.”\\r\\n\\r\\n“If you can bear it,” said Paulina, “I can make the statue move, make\\r\\nit come down and take you by the hand. Only you would think it was by\\r\\nwicked magic.”\\r\\n\\r\\n“Whatever you can make her do, I am content to look on,” said the King.\\r\\n\\r\\nAnd then, all folks there admiring and beholding, the statue moved from\\r\\nits pedestal, and came down the steps and put its arms round the King's\\r\\nneck, and he held her face and kissed her many times, for this was\\r\\nno statue, but the real living Queen Hermione herself. She had lived\\r\\nhidden, by Paulina's kindness, all these years, and would not discover\\r\\nherself to her husband, though she knew he had repented, because she\\r\\ncould not quite forgive him till she knew what had become of her little\\r\\nbaby.\\r\\n\\r\\nNow that Perdita was found, she forgave her husband everything, and it\\r\\nwas like a new and beautiful marriage to them, to be together once more.\\r\\n\\r\\nFlorizel and Perdita were married and lived long and happily.\\r\\n\\r\\nTo Leontes his many years of suffering were well paid for in the moment\\r\\nwhen, after long grief and pain, he felt the arms of his true love\\r\\naround him once again.\")"
      ]
     },
     "execution_count": 62,
     "metadata": {},
     "output_type": "execute_result"
    }
   ],
   "source": [
    "\n",
    "tout_fichier = sc.wholeTextFiles(\"gutenberg.txt\").values().first()\n",
    "\n",
    "lines = tout_fichier.split(\"\\r\\n\\r\\n\\r\\n\\r\\n\\r\\n\") # je découpe les histoires par 4 linebreaks\n",
    "\n",
    "dd2 = sc.parallelize(lines)\n",
    "\n",
    "dd3 = dd2.zipWithIndex().map(lambda x: (x[1], x[0]))\n",
    "\n",
    "onzeeme_histoire = dd3.filter(lambda x: x[0] in [11]) # exemple pour prendre 11eme histoire\n",
    "\n",
    "onzeeme_histoire.take(100)\n"
   ]
  }
 ],
 "metadata": {
  "kernelspec": {
   "display_name": "Python 3 (ipykernel)",
   "language": "python",
   "name": "python3"
  },
  "language_info": {
   "codemirror_mode": {
    "name": "ipython",
    "version": 3
   },
   "file_extension": ".py",
   "mimetype": "text/x-python",
   "name": "python",
   "nbconvert_exporter": "python",
   "pygments_lexer": "ipython3",
   "version": "3.10.12"
  }
 },
 "nbformat": 4,
 "nbformat_minor": 5
}
