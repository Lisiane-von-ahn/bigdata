{
 "cells": [
  {
   "cell_type": "code",
   "execution_count": null,
   "id": "8954a0c9-15e4-4f00-8daa-365f68bcda72",
   "metadata": {},
   "outputs": [],
   "source": [
    "import socket,time\n",
    "\n",
    "HOST= \"localhost\"\n",
    "PORT= 6662\n",
    "\n",
    "so = socket.socket(socket.AF_INET, socket.SOCK_STREAM)\n",
    "so.bind((HOST,PORT))\n",
    "so.listen(5) # attend la connection de spark\n",
    "client, _ = so.accept()\n",
    "\n",
    "\n",
    "with open(\"./books_large_p1.txt\") as f:\n",
    "    # on va lire le fichier caractere par caractere\n",
    "    last_pos = -1\n",
    "    cur_pos = 0\n",
    "    s = \"\" # chaine dans laquelle on va mettre les caracteres\n",
    "    while last_pos != cur_pos:\n",
    "        c = f.read(1) # lit le caractere suivant du fichier\n",
    "        s+=c\n",
    "        if c=='\\n':\n",
    "            line = s.encode('UTF-8')\n",
    "            client.send(line)\n",
    "            s=\"\"\n",
    "            time.sleep(0.005)\n",
    "\n",
    "so.close()\n",
    "    "
   ]
  },
  {
   "cell_type": "code",
   "execution_count": 14,
   "id": "03553721-4a67-430e-9aa0-a95f39d10673",
   "metadata": {},
   "outputs": [
    {
     "data": {
      "text/plain": [
       "b'hello'"
      ]
     },
     "execution_count": 14,
     "metadata": {},
     "output_type": "execute_result"
    }
   ],
   "source": [
    "\"hello\".encode(\"UTF-8\")"
   ]
  }
 ],
 "metadata": {
  "kernelspec": {
   "display_name": "Python 3 (ipykernel)",
   "language": "python",
   "name": "python3"
  },
  "language_info": {
   "codemirror_mode": {
    "name": "ipython",
    "version": 3
   },
   "file_extension": ".py",
   "mimetype": "text/x-python",
   "name": "python",
   "nbconvert_exporter": "python",
   "pygments_lexer": "ipython3",
   "version": "3.10.14"
  }
 },
 "nbformat": 4,
 "nbformat_minor": 5
}
